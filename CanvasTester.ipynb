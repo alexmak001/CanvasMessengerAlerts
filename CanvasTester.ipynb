{
 "metadata": {
  "language_info": {
   "codemirror_mode": {
    "name": "ipython",
    "version": 3
   },
   "file_extension": ".py",
   "mimetype": "text/x-python",
   "name": "python",
   "nbconvert_exporter": "python",
   "pygments_lexer": "ipython3",
   "version": "3.8.3-final"
  },
  "orig_nbformat": 2,
  "kernelspec": {
   "name": "python_defaultSpec_1600314334241",
   "display_name": "Python 3.8.3 64-bit ('base': conda)"
  }
 },
 "nbformat": 4,
 "nbformat_minor": 2,
 "cells": [
  {
   "cell_type": "code",
   "execution_count": 1,
   "metadata": {},
   "outputs": [],
   "source": [
    "import pandas as pd\n",
    "from selenium import webdriver\n",
    "import numpy as np\n",
    "\n"
   ]
  },
  {
   "cell_type": "code",
   "execution_count": null,
   "metadata": {},
   "outputs": [],
   "source": [
    "username = \"1\"\n",
    "password = \"\"\n",
    "classes = [\"\"]\n",
    "\n",
    "driver = webdriver.Chrome(\"/Users/alex/Downloads/chromedriver\")\n",
    "\n",
    "url = \"https://myportal.fhda.edu\"\n",
    "\n"
   ]
  },
  {
   "cell_type": "code",
   "execution_count": null,
   "metadata": {},
   "outputs": [],
   "source": [
    "driver.get(url)\n",
    "\n",
    "driver.find_element_by_id(\"j_username\").send_keys(username)\n",
    "driver.find_element_by_id(\"j_password\").send_keys(password)\n",
    "driver.find_element_by_id(\"btn-eventId-proceed\").click()\n",
    "\n",
    "driver.get(classes[0])\n",
    "html = driver.page_source\n",
    "d = pd.read_html(html)\n",
    "grades = d[0].to_numpy()\n",
    "\n",
    "for item in grades[0]:\n",
    "    print(item)\n"
   ]
  }
 ]
}