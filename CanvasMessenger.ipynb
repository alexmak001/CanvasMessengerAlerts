{
 "metadata": {
  "language_info": {
   "codemirror_mode": {
    "name": "ipython",
    "version": 3
   },
   "file_extension": ".py",
   "mimetype": "text/x-python",
   "name": "python",
   "nbconvert_exporter": "python",
   "pygments_lexer": "ipython3",
   "version": "3.8.3-final"
  },
  "orig_nbformat": 2,
  "kernelspec": {
   "name": "Python 3.8.3 64-bit ('base': conda)",
   "display_name": "Python 3.8.3 64-bit ('base': conda)",
   "metadata": {
    "interpreter": {
     "hash": "054c0128ae785496ec715fe55dc407401ac17e534a17f921fadf0b2704e9e719"
    }
   }
  }
 },
 "nbformat": 4,
 "nbformat_minor": 2,
 "cells": [
  {
   "cell_type": "code",
   "execution_count": 1,
   "metadata": {},
   "outputs": [],
   "source": [
    "import pandas as pd\n",
    "from selenium import webdriver\n",
    "import numpy as np\n",
    "import datetime\n"
   ]
  },
  {
   "cell_type": "code",
   "execution_count": 2,
   "metadata": {},
   "outputs": [],
   "source": [
    "months = {\"Sep\": 9, \"Oct\":10, \"Nov\":11, \"Dec\":12}"
   ]
  },
  {
   "cell_type": "code",
   "execution_count": 3,
   "metadata": {},
   "outputs": [],
   "source": [
    "f = open(\"D:\\Python Projects\\Passwords\\FoothillCanvas.txt\")\n",
    "username = f.readline().replace(\"\\n\",\"\")\n",
    "password = f.readline()\n",
    "f.close()"
   ]
  },
  {
   "cell_type": "code",
   "execution_count": 4,
   "metadata": {},
   "outputs": [],
   "source": [
    "driver = webdriver.Chrome(\"chromedriver_win32/chromedriver.exe\")\n",
    "\n",
    "url = \"https://myportal.fhda.edu\"\n",
    "\n",
    "driver.get(url)\n",
    "\n",
    "driver.find_element_by_id(\"j_username\").send_keys(username)\n",
    "driver.find_element_by_id(\"j_password\").send_keys(password)\n",
    "driver.find_element_by_id(\"btn-eventId-proceed\").click()\n",
    "\n",
    "\n",
    "classes = [\"https://foothillcollege.instructure.com/courses/14739/grades\"]\n",
    "\n",
    "driver.get(classes[0])\n",
    "html = driver.page_source\n",
    "d = pd.read_html(html)\n"
   ]
  },
  {
   "cell_type": "code",
   "execution_count": 23,
   "metadata": {
    "tags": []
   },
   "outputs": [
    {
     "output_type": "stream",
     "name": "stdout",
     "text": "Submission Progress Questions  Assignments due by 8am\nA Place to Create Color Art Assignments  Assignments due by 8am\nNetiquette Norming Discussion Assignments due by 8am\nStudent Introduction  Assignments due by 8am\nStudent Questionnaire Assignments due by 8am\nSyllabus Acknowledgement  Assignments due by 8am\n"
    }
   ],
   "source": [
    "grades = d[0]\n",
    "\n",
    "for num in range(len(grades)):\n",
    "    if type(grades.loc[num][1]) == str:\n",
    "        ass_date = grades.loc[num][1].split(\" \")[:2]\n",
    "        ass_month = months[ass_date[0]]\n",
    "        ass_day = int(ass_date[1])\n",
    "\n",
    "        curr_month = datetime.datetime.now().month\n",
    "        curr_day = datetime.datetime.now().day\n",
    "\n",
    "        \n",
    "\n",
    "        if curr_day == ass_day and curr_month == ass_month:\n",
    "            ass = grades.loc[num][0]\n",
    "            time = \" \".join(grades.loc[num][1].split(\" \")[2:])\n",
    "            messageString = \"{0} due {1}\".format(ass, time)\n",
    "            print(messageString)\n",
    "    \n",
    "   "
   ]
  },
  {
   "cell_type": "code",
   "execution_count": 28,
   "metadata": {},
   "outputs": [
    {
     "output_type": "execute_result",
     "data": {
      "text/plain": "                                                 Name            Due  Status  \\\n0          Submission Progress Questions  Assignments  Sep 23 by 8am     NaN   \n1   A Place to Create Color Art Assignments  Assig...  Sep 23 by 8am     NaN   \n2           Netiquette Norming Discussion Assignments  Sep 23 by 8am     NaN   \n3                   Student Introduction  Assignments  Sep 23 by 8am     NaN   \n4                   Student Questionnaire Assignments  Sep 23 by 8am     NaN   \n..                                                ...            ...     ...   \n71  11. Extra Credit Assignment: Binder to Store C...   Dec 7 by 9am     NaN   \n72                11.1. Final Portfolio  Extra Credit   Dec 9 by 9am     NaN   \n73                                        Assignments            NaN     NaN   \n74                                       Extra Credit            NaN     NaN   \n75                                              Total            NaN     NaN   \n\n                                                Score       Out of  \\\n0   Click to test a different score  Click to test...          0.4   \n1   Click to test a different score  Click to test...            1   \n2   Click to test a different score  Click to test...            1   \n3   Click to test a different score  Click to test...            1   \n4   Click to test a different score  Click to test...            1   \n..                                                ...          ...   \n71  Click to test a different score  Click to test...            0   \n72  Click to test a different score  Click to test...           10   \n73                                                NaN  0.00 / 0.00   \n74                                                NaN  0.00 / 0.00   \n75                                        0.00 / 0.00  0.00 / 0.00   \n\n                                              Details  \\\n0   Grade Info  0 comments  See scoring details  S...   \n1   Grade Info  0 comments  See scoring details  S...   \n2   Grade Info  0 comments  See scoring details  S...   \n3   Grade Info  0 comments  See scoring details  S...   \n4   Grade Info  0 comments  See scoring details  S...   \n..                                                ...   \n71  Grade Info  0 comments  See scoring details  S...   \n72  Grade Info  0 comments  See scoring details  S...   \n73                                                NaN   \n74                                                NaN   \n75                                                NaN   \n\n    Submission Progress Status  \n0                          NaN  \n1                          NaN  \n2                          NaN  \n3                          NaN  \n4                          NaN  \n..                         ...  \n71                         NaN  \n72                         NaN  \n73                         NaN  \n74                         NaN  \n75                         NaN  \n\n[76 rows x 7 columns]",
      "text/html": "<div>\n<style scoped>\n    .dataframe tbody tr th:only-of-type {\n        vertical-align: middle;\n    }\n\n    .dataframe tbody tr th {\n        vertical-align: top;\n    }\n\n    .dataframe thead th {\n        text-align: right;\n    }\n</style>\n<table border=\"1\" class=\"dataframe\">\n  <thead>\n    <tr style=\"text-align: right;\">\n      <th></th>\n      <th>Name</th>\n      <th>Due</th>\n      <th>Status</th>\n      <th>Score</th>\n      <th>Out of</th>\n      <th>Details</th>\n      <th>Submission Progress Status</th>\n    </tr>\n  </thead>\n  <tbody>\n    <tr>\n      <th>0</th>\n      <td>Submission Progress Questions  Assignments</td>\n      <td>Sep 23 by 8am</td>\n      <td>NaN</td>\n      <td>Click to test a different score  Click to test...</td>\n      <td>0.4</td>\n      <td>Grade Info  0 comments  See scoring details  S...</td>\n      <td>NaN</td>\n    </tr>\n    <tr>\n      <th>1</th>\n      <td>A Place to Create Color Art Assignments  Assig...</td>\n      <td>Sep 23 by 8am</td>\n      <td>NaN</td>\n      <td>Click to test a different score  Click to test...</td>\n      <td>1</td>\n      <td>Grade Info  0 comments  See scoring details  S...</td>\n      <td>NaN</td>\n    </tr>\n    <tr>\n      <th>2</th>\n      <td>Netiquette Norming Discussion Assignments</td>\n      <td>Sep 23 by 8am</td>\n      <td>NaN</td>\n      <td>Click to test a different score  Click to test...</td>\n      <td>1</td>\n      <td>Grade Info  0 comments  See scoring details  S...</td>\n      <td>NaN</td>\n    </tr>\n    <tr>\n      <th>3</th>\n      <td>Student Introduction  Assignments</td>\n      <td>Sep 23 by 8am</td>\n      <td>NaN</td>\n      <td>Click to test a different score  Click to test...</td>\n      <td>1</td>\n      <td>Grade Info  0 comments  See scoring details  S...</td>\n      <td>NaN</td>\n    </tr>\n    <tr>\n      <th>4</th>\n      <td>Student Questionnaire Assignments</td>\n      <td>Sep 23 by 8am</td>\n      <td>NaN</td>\n      <td>Click to test a different score  Click to test...</td>\n      <td>1</td>\n      <td>Grade Info  0 comments  See scoring details  S...</td>\n      <td>NaN</td>\n    </tr>\n    <tr>\n      <th>...</th>\n      <td>...</td>\n      <td>...</td>\n      <td>...</td>\n      <td>...</td>\n      <td>...</td>\n      <td>...</td>\n      <td>...</td>\n    </tr>\n    <tr>\n      <th>71</th>\n      <td>11. Extra Credit Assignment: Binder to Store C...</td>\n      <td>Dec 7 by 9am</td>\n      <td>NaN</td>\n      <td>Click to test a different score  Click to test...</td>\n      <td>0</td>\n      <td>Grade Info  0 comments  See scoring details  S...</td>\n      <td>NaN</td>\n    </tr>\n    <tr>\n      <th>72</th>\n      <td>11.1. Final Portfolio  Extra Credit</td>\n      <td>Dec 9 by 9am</td>\n      <td>NaN</td>\n      <td>Click to test a different score  Click to test...</td>\n      <td>10</td>\n      <td>Grade Info  0 comments  See scoring details  S...</td>\n      <td>NaN</td>\n    </tr>\n    <tr>\n      <th>73</th>\n      <td>Assignments</td>\n      <td>NaN</td>\n      <td>NaN</td>\n      <td>NaN</td>\n      <td>0.00 / 0.00</td>\n      <td>NaN</td>\n      <td>NaN</td>\n    </tr>\n    <tr>\n      <th>74</th>\n      <td>Extra Credit</td>\n      <td>NaN</td>\n      <td>NaN</td>\n      <td>NaN</td>\n      <td>0.00 / 0.00</td>\n      <td>NaN</td>\n      <td>NaN</td>\n    </tr>\n    <tr>\n      <th>75</th>\n      <td>Total</td>\n      <td>NaN</td>\n      <td>NaN</td>\n      <td>0.00 / 0.00</td>\n      <td>0.00 / 0.00</td>\n      <td>NaN</td>\n      <td>NaN</td>\n    </tr>\n  </tbody>\n</table>\n<p>76 rows × 7 columns</p>\n</div>"
     },
     "metadata": {},
     "execution_count": 28
    }
   ],
   "source": [
    "grades"
   ]
  },
  {
   "cell_type": "code",
   "execution_count": 22,
   "metadata": {},
   "outputs": [],
   "source": [
    "import fbchat\n",
    "from fbchat import Client\n",
    "from fbchat.models import *"
   ]
  },
  {
   "cell_type": "code",
   "execution_count": 14,
   "metadata": {},
   "outputs": [],
   "source": [
    "file = open(\"D:\\Python Projects\\Passwords\\Facebook.txt\")\n",
    "email = file.readline().replace(\"\\n\",\"\")\n",
    "pw = file.readline()\n",
    "file.close()"
   ]
  },
  {
   "cell_type": "code",
   "execution_count": 21,
   "metadata": {
    "tags": []
   },
   "outputs": [
    {
     "output_type": "stream",
     "name": "stderr",
     "text": "Logging in alexm7701@gmail.com...\nSubmitting 2FA code.\nSaving browser.\nLogin of alexm7701@gmail.com successful.\n"
    }
   ],
   "source": [
    "client = Client(email,pw)"
   ]
  },
  {
   "cell_type": "code",
   "execution_count": 30,
   "metadata": {
    "tags": [
     "outputPrepend"
    ]
   },
   "outputs": [
    {
     "output_type": "stream",
     "name": "stderr",
     "text": "_cover_photo': {'r': 1}, 'request_click': {'r': 1}, 'request_seen': {'r': 1}, 'reshare_warning_cancel_click': {'r': 1}, 'reshare_warning_continue_click': {'r': 1}, 'reshare_warning_other_click': {'r': 1}, 'resource_center_state_change': {'r': 1}, 'rhc_friend_request_seen': {'r': 1}, 'ri_transparency_pigeon_event': {'r': 1}, 'rights_manager_copyright_banner_viewed': {'r': 1}, 'robotics_ui_events': {'r': 1}, 'room_activity_tap': {'r': 1}, 'room_app_switch_tap': {'r': 1}, 'room_audience_mode_tap': {'r': 1}, 'room_button_tap': {'r': 1}, 'room_call_tap': {'r': 1}, 'room_cancel_tap': {'r': 1}, 'room_card_impression': {'r': 1}, 'room_card_long_press_menu_sheet_impression': {'r': 1}, 'room_card_long_press_menu_sheet_tap': {'r': 1}, 'room_card_tap': {'r': 1}, 'room_copy_link_tap': {'r': 1}, 'room_create_tap': {'r': 1}, 'room_create_tap_shadow': {'r': 1}, 'room_create_update_failure': {'r': 1}, 'room_creation_fail': {'r': 1}, 'room_creation_flow_start': {'r': 1}, 'room_creation_flow_success': {'r': 1}, 'room_description_sheet_impression': {'r': 1}, 'room_dialog_impression': {'r': 1}, 'room_dismiss_sheet': {'r': 1}, 'room_does_not_exist_view_impression': {'r': 1}, 'room_empty_card_sheet_button_tap': {'r': 1}, 'room_empty_card_sheet_impression': {'r': 1}, 'room_end_tap': {'r': 1}, 'room_external_link_share_tap': {'r': 1}, 'room_group_room_list_view_impression': {'r': 1}, 'room_group_room_list_view_item_tap': {'r': 1}, 'room_group_room_rhc_impression': {'r': 1}, 'room_interest_tap': {'r': 1}, 'room_invite_friends_impression': {'r': 1}, 'room_join_permission_denied': {'r': 1}, 'room_join_tap': {'r': 1}, 'room_join_tap_zr': {'r': 1}, 'room_join_tap_zr_interstitial': {'r': 1}, 'room_lobby_sheet_impression': {'r': 1}, 'room_login_fb_account_prompt_sheet_impression': {'r': 1}, 'room_login_fb_account_success_sheet_impression': {'r': 1}, 'room_login_fb_client_link_prompt_sheet_impression': {'r': 1}, 'room_login_fb_client_link_start': {'r': 1}, 'room_login_fb_client_link_success': {'r': 1}, 'room_management_options_sheet_impression': {'r': 1}, 'room_management_options_sheet_tap': {'r': 1}, 'room_management_sheet_impression': {'r': 1}, 'room_message_tap': {'r': 1}, 'room_promotion_unit_impression': {'r': 1}, 'room_promotion_unit_tap': {'r': 1}, 'room_regen_link_tap': {'r': 1}, 'room_schedule_tap': {'r': 1}, 'room_screen_sharing_tap': {'r': 1}, 'room_self_card_button_tap': {'r': 1}, 'room_self_card_tap': {'r': 1}, 'room_setting_sheet_content_tap': {'r': 1}, 'room_setting_sheet_impression': {'r': 1}, 'room_share_sheet_impression': {'r': 1}, 'room_share_tap': {'r': 1}, 'room_skip_tap': {'r': 1}, 'room_style_tap': {'r': 1}, 'room_tab_impression': {'r': 1}, 'room_tray_impression': {'r': 1}, 'room_tray_scroll': {'r': 1}, 'room_tray_tap': {'r': 1}, 'room_update_tap': {'r': 1}, 'rooms_chat_user_actions': {'r': 1}, 'rp_web_infra_actions_logger_event': {'r': 1, 's': 1}, 'rtc_call_action': {'r': 1}, 'rtc_infra_reliability': {'r': 1}, 'rtc_web_user_actions': {'r': 1, 's': 1}, 'rtc_web_user_actions_debug': {'r': 1, 's': 1}, 'save_click': {'r': 1}, 'save_fundraiser_draft': {'r': 1}, 'save_item_impression': {'r': 1}, 'save_surface_impression': {'r': 1}, 'saved_collection_ego_item_image_clicked': {'r': 1}, 'saved_dashboard_imp': {'r': 1}, 'saved_dashboard_list_landing_imp': {'r': 1}, 'saved_hcp_note': {'r': 1}, 'saved_see_all_lists_view_imp': {'r': 1}, 'sc_audio_messages_event': {'r': 1}, 'scp_event': {'r': 1}, 'search_charities': {'r': 1}, 'search_result_page_logging_inline_action': {'r': 1}, 'search_result_page_logging_item_clicked': {'r': 1}, 'search_result_page_logging_results_loaded': {'r': 1}, 'search_result_page_logging_viewport_view': {'r': 1}, 'search_results_logging_module_unit_data': {'r': 1}, 'search_results_logging_result_unit_data': {'r': 1}, 'search_typeahead_logging_session': {'r': 1}, 'selfharm_promotion_option_clicked': {'r': 1}, 'send_story_post_failed_notification': {'r': 1}, 'services_consumer_client_side_events': {'r': 1}, 'services_consumer_sensitive_events': {'r': 1}, 'services_local_business_online_events_falco_event': {'r': 1}, 'services_social_rex_cross_post_client_events': {'r': 1}, 'set_fundraiser_draft': {'r': 1}, 'sextortion_victim_support_option_clicked': {'r': 1}, 'share_dialog_unified_composer': {'r': 1}, 'share_nonprofit_post': {'r': 1}, 'shift_cover_coverage_button_clicked': {'r': 1}, 'shift_cover_detail_screen_opened': {'r': 1}, 'shift_cover_message_button_clicked': {'r': 1}, 'shops_ads_data_use_user_events': {'r': 1, 's': 1}, 'sims_infra_ops_alert_command': {'r': 1, 's': 1}, 'sims_map_node': {'r': 1}, 'sims_search': {'r': 1}, 'sims_ui_event': {'r': 1}, 'sims_vm_command': {'r': 1}, 'skewer_click': {'r': 1}, 'smart_compose_candidates_generated': {'r': 1}, 'smart_compose_candidates_queried': {'r': 1}, 'smart_compose_matching_suggestion': {'r': 1}, 'smart_compose_suggestion_clicked': {'r': 1}, 'smart_compose_suggestion_displayed': {'r': 1}, 'smart_keyboard_suggestion_displayed': {'r': 1}, 'spf': {'r': 1, 's': 1}, 'sponsored_story_view_hierarchy': {'r': 1}, 'sticker_store': {'r': 100, 's': 1}, 'stonehenge_account_linking_screen_confirm_click': {'r': 1}, 'stonehenge_account_linking_screen_dismiss_click': {'r': 1}, 'stonehenge_account_linking_screen_impression': {'r': 1}, 'stonehenge_account_linking_screen_unlink_click': {'r': 1}, 'stonehenge_cta_click': {'r': 1}, 'stonehenge_cta_impression': {'r': 1}, 'stonehenge_digest_appear': {'r': 1}, 'stonehenge_digest_article_click': {'r': 1}, 'stonehenge_digest_disappear': {'r': 1}, 'stonehenge_digest_header_click': {'r': 1}, 'stonehenge_digest_impression': {'r': 1}, 'stonehenge_digest_see_more_click': {'r': 1}, 'stonehenge_settings_screen_impression': {'r': 1}, 'stonehenge_settings_unlink_click': {'r': 1}, 'stonehenge_welcome_screen_impression': {'r': 1}, 'stonehenge_welcome_unlink_click': {'r': 1}, 'stories_interactive_feedback': {'r': 1}, 'story_card_impression': {'r': 1}, 'story_card_timespent': {'r': 1}, 'story_interactive_item_click': {'r': 1}, 'story_interactive_item_rendering': {'r': 1}, 'story_media_view': {'r': 1}, 'story_navigation': {'r': 1}, 'story_profile_impression': {'r': 1}, 'streaming_sdk_engine_log': {'r': 1}, 'streaming_sdk_event': {'r': 1}, 'streaming_sdk_heartbeat': {'r': 1}, 'streaming_sdk_metadata': {'r': 1}, 'streaming_sdk_session_summary': {'r': 1}, 'string_manager_click': {'r': 1, 's': 1}, 'suicidal_admission_support_option_clicked': {'r': 1}, 'suicidal_promotion_option_clicked': {'r': 1}, 'support_reaction_interstitial_impression': {'r': 1}, 'support_reaction_interstitial_okay_pressed': {'r': 1}, 'survey_platform_simon_tool_event': {'r': 1, 's': 1}, 'swipe_collaborative_post_card': {'r': 1}, 'talent_scout_click': {'r': 1}, 'talent_scout_create_form': {'r': 1}, 'talent_scout_impression': {'r': 1}, 'tap_add_to_pages_story': {'r': 1}, 'tap_collaborative_post_card_author_info': {'r': 1}, 'tap_nonprofit_post': {'r': 1}, 'tap_select_page': {'r': 1}, 'task_plugin_load_logger': {'r': 10000}, 'task_similarity_plugin_logger': {'r': 10000}, 'tdui_upload_modal': {'r': 10000}, 'tdui_usage': {'r': 10000}, 'ufi_share_menu_copy_link': {'r': 1}, 'ufix_ixt_trigger': {'r': 1}, 'ui_feature_confirmation_confirm': {'r': 1}, 'ui_feature_confirmation_dismiss': {'r': 1}, 'ui_feature_confirmation_failure_actionable': {'r': 1}, 'ui_feature_confirmation_failure_actionable_dismiss': {'r': 1}, 'ui_feature_confirmation_failure_unactionable': {'r': 1}, 'ui_feature_confirmation_ig_login_failure': {'r': 1}, 'ui_feature_confirmation_ig_login_start': {'r': 1}, 'ui_feature_confirmation_ig_login_success': {'r': 1}, 'ui_feature_confirmation_start': {'r': 1}, 'ui_feature_confirmation_success': {'r': 1}, 'ui_feature_confirmation_try_again': {'r': 1}, 'ui_feature_permission_disclosure_alert_click': {'r': 1}, 'ui_feature_permission_disclosure_alert_start': {'r': 1}, 'unified_interception_intercept_accept': {'r': 1, 's': 1}, 'unified_interception_intercept_create': {'r': 1, 's': 1}, 'unified_interception_intercept_reject': {'r': 1, 's': 1}, 'unified_interception_intercept_undo': {'r': 1, 's': 1}, 'upgrade_to_collaborative_post': {'r': 1}, 'upload_cover_photo': {'r': 1}, 'used_js_modules': {'r': 1, 's': 1}, 'user_pay_news': {'r': 1}, 'vehicle_entity_page_user_action_event': {'r': 1}, 'verse': {'r': 1}, 'video_action_source_event': {'r': 1}, 'video_cue_generic': {'r': 1}, 'video_search_relevancy_feedback': {'r': 1}, 'video_sharing_option_clicked': {'r': 1}, 'video_sharing_option_impression': {'r': 1}, 'video_sharing_permalink_landing': {'r': 1}, 'vidwalla_live_producer_graphics_overlay_url_copied': {'r': 1}, 'vidwalla_live_producer_graphics_package_selected': {'r': 1}, 'vidwalla_live_producer_graphics_workbench_tab_mounted': {'r': 1}, 'vidwalla_live_producer_obs_link_dragged': {'r': 1}, 'view_beneficiary_selector': {'r': 1}, 'view_collaborative_post_card': {'r': 1}, 'view_create_outro_dialog': {'r': 1}, 'view_fundraiser': {'r': 1}, 'view_stripe_kyc_onboarding_screen': {'r': 1}, 'viewed_hcp_note': {'r': 1}, 'viewed_hcp_stats': {'r': 1}, 'vod_pnc_messenger_cta_click': {'r': 1}, 'vod_pnc_people_sheet_impression': {'r': 1}, 'vod_pnc_people_sheet_thumbnail_impression': {'r': 1}, 'vod_pnc_see_all_reactions_click': {'r': 1}, 'volunteering_click_unit': {'r': 1}, 'volunteering_view_page': {'r': 1}, 'volunteering_view_unit': {'r': 1}, 'voter_registration_attachment_tap_change_state': {'r': 1}, 'voter_registration_post_impression': {'r': 1}, 'voter_registration_post_tap_register': {'r': 1}, 'voter_registration_qp_tap_edit_location': {'r': 1}, 'voter_registration_state_selector_tap_state': {'r': 1}, 'wayfinder_mapbox_data_load': {'r': 1}, 'weather_bookmark_forecast_scrolled': {'r': 1}, 'weather_bookmark_impression': {'r': 1}, 'weather_bookmark_scroll_forecast': {'r': 1}, 'weather_bookmark_settings_tapped': {'r': 1}, 'weather_bookmark_tap_city_tab': {'r': 1}, 'weather_bookmark_tap_future_day': {'r': 1}, 'weather_bookmark_tap_hourly_forecast': {'r': 1}, 'weather_bookmark_tap_nowcast': {'r': 1}, 'weather_daily_notifications_mutation_error': {'r': 1}, 'weather_daily_notifications_turned_off': {'r': 1}, 'weather_daily_notifications_turned_on': {'r': 1}, 'weather_live_alerts_mutation_error': {'r': 1}, 'weather_live_alerts_turned_off': {'r': 1}, 'weather_live_alerts_turned_on': {'r': 1}, 'weather_settings_add_city': {'r': 1}, 'weather_settings_daily_notification_use_current_location': {'r': 1}, 'weather_settings_delete_city': {'r': 1}, 'weather_settings_error_state_dismissed': {'r': 1}, 'weather_settings_error_state_fixed': {'r': 1}, 'weather_settings_impression': {'r': 1}, 'weather_settings_notification_location_tapped': {'r': 1}, 'weather_settings_tap_city_row': {'r': 1}, 'weather_settings_temperature_unit_changed': {'r': 1}, 'web_comment_composer_interaction_tracking_comment_submitted': {'r': 1, 's': 1}, 'webauthn_authenticator_login_failure': {'r': 1}, 'webauthn_authenticator_login_success': {'r': 1}, 'webauthn_authenticator_register_failure': {'r': 1}, 'webauthn_authenticator_register_success': {'r': 1}, 'whats_app_rooms_logged_out_actions_event': {'r': 1}, 'why_covered_ccs_link_followed': {'r': 1}, 'why_covered_ccs_snippet_viewed': {'r': 1}, 'why_covered_error_generating_cms': {'r': 1}, 'why_covered_how_snippet_viewed': {'r': 1}, 'work_activation_vc_rooms_landing_page_chat_channel_item_dismiss': {'r': 1}, 'work_activation_vc_rooms_landing_page_entity_impression': {'r': 1}, 'work_admin_workplace_for_good_verification_events': {'r': 1, 's': 1}, 'work_all_hands_video_analytics': {'r': 1, 's': 1}, 'work_global_create_menu': {'r': 1}, 'work_hedge_highlight': {'r': 10000}, 'work_meeting': {'r': 1}, 'work_platform_login_oauth_event': {'r': 1}, 'work_plugin': {'r': 1}, 'work_redblock': {'r': 100, 's': 1}, 'work_safety_client_error': {'r': 1}, 'work_thanks_mobile_ui_confirm_button_clicked': {'r': 1}, 'work_thanks_mobile_ui_dialog_opened': {'r': 1}, 'work_video_recommendations_events': {'r': 1, 's': 1}, 'work_web_signup_flow_change': {'r': 1}, 'work_web_signup_flow_click': {'r': 1}, 'work_web_signup_flow_focus': {'r': 1}, 'work_web_signup_flow_view': {'r': 1}, 'workplace_settings_nub_click': {'r': 1}, 'www_comet_video_autoplay': {'r': 10000}, 'xwf_partner_alerts': {'r': 1, 's': 1}, 'zenon_redblock': {'r': 1, 's': 1}}}, 5519], ['cr:692209', ['cancelIdleCallbackBlue'], {'__rc': ['cancelIdleCallbackBlue', 'Aa3IuFjXo39SagVucPib-JJLgUWmx4zDdKXlYx1mgw3zB9nmBU2SD0lTsP4_K57f_nB1_NHPz-5U7jinvaZHZQE']}, -1], ['cr:925100', ['RunBlue'], {'__rc': ['RunBlue', 'Aa3IuFjXo39SagVucPib-JJLgUWmx4zDdKXlYx1mgw3zB9nmBU2SD0lTsP4_K57f_nB1_NHPz-5U7jinvaZHZQE']}, -1], ['BanzaiConfig', [], {'MAX_SIZE': 10000, 'MAX_WAIT': 150000, 'RESTORE_WAIT': 150000, 'blacklist': ['time_spent'], 'gks': {'boosted_pagelikes': True, 'mercury_send_error_logging': True, 'platform_oauth_client_events': True, 'visibility_tracking': True, 'graphexplorer': True, 'sticker_search_ranking': True}}, 7], ['CookieCoreConfig', [], {'a11y': {}, 'c_user': {}, 'cppo': {'t': 86400}, 'dpr': {'t': 604800}, 'i_user': {}, 'js_ver': {'t': 604800}, 'locale': {'t': 604800}, 'm_pixel_ratio': {'t': 604800}, 'noscript': {}, 'presence': {}, 'sfau': {}, 'wd': {'t': 604800}, 'x-referer': {}, 'x-src': {'t': 1}}, 2104], ['UserAgentData', [], {'browserArchitecture': '32', 'browserFullVersion': '20.0.1132.57', 'browserMinorVersion': 0, 'browserName': 'Chrome', 'browserVersion': 20, 'deviceName': 'Unknown', 'engineName': 'WebKit', 'engineVersion': '536.11', 'platformArchitecture': '32', 'platformName': 'Chrome OS', 'platformVersion': None, 'platformFullVersion': None}, 527], ['ZeroRewriteRules', [], {'rewrite_rules': {}, 'whitelist': {'/hr/r': 1, '/hr/p': 1, '/zero/unsupported_browser/': 1, '/zero/policy/optin': 1, '/zero/optin/write/': 1, '/zero/optin/legal/': 1, '/zero/optin/free/': 1, '/about/privacy/': 1, '/about/privacy/update/': 1, '/about/privacy/update': 1, '/zero/toggle/welcome/': 1, '/zero/toggle/nux/': 1, '/fup/interstitial/': 1, '/work/landing': 1, '/work/login/': 1, '/work/email/': 1, '/ai.php': 1, '/js_dialog_resources/dialog_descriptions_android.json': 0, '/connect/jsdialog/MPlatformAppInvitesJSDialog/': 0, '/connect/jsdialog/MPlatformOAuthShimJSDialog/': 0, '/connect/jsdialog/MPlatformLikeJSDialog/': 0, '/qp/interstitial/': 1, '/qp/action/redirect/': 1, '/qp/action/close/': 1, '/zero/support/ineligible/': 1, '/zero_balance_redirect/': 1, '/zero_balance_redirect': 1, '/zero_balance_redirect/l/': 1, '/l.php': 1, '/lsr.php': 1, '/ajax/dtsg/': 1, '/checkpoint/block/': 1, '/exitdsite': 1, '/zero/balance/pixel/': 1, '/zero/balance/': 1, '/zero/balance/carrier_landing/': 1, '/zero/flex/logging/': 1, '/tr': 1, '/tr/': 1, '/sem_campaigns/sem_pixel_test/': 1, '/bookmarks/flyout/body/': 1, '/zero/subno/': 1, '/confirmemail.php': 1, '/policies/': 1, '/mobile/internetdotorg/classifier/': 1, '/zero/dogfooding': 1, '/xti.php': 1, '/zero/fblite/config/': 1, '/hr/zsh/wc/': 1, '/ajax/bootloader-endpoint/': 1, '/4oh4.php': 1, '/autologin.php': 1, '/birthday_help.php': 1, '/checkpoint/': 1, '/contact-importer/': 1, '/cr.php': 1, '/legal/terms/': 1, '/login.php': 1, '/login/': 1, '/mobile/account/': 1, '/n/': 1, '/remote_test_device/': 1, '/upsell/buy/': 1, '/upsell/buyconfirm/': 1, '/upsell/buyresult/': 1, '/upsell/promos/': 1, '/upsell/continue/': 1, '/upsell/h/promos/': 1, '/upsell/loan/learnmore/': 1, '/upsell/purchase/': 1, '/upsell/promos/upgrade/': 1, '/upsell/buy_redirect/': 1, '/upsell/loan/buyconfirm/': 1, '/upsell/loan/buy/': 1, '/upsell/sms/': 1, '/wap/a/channel/reconnect.php': 1, '/wap/a/nux/wizard/nav.php': 1, '/wap/appreg.php': 1, '/wap/birthday_help.php': 1, '/wap/c.php': 1, '/wap/confirmemail.php': 1, '/wap/cr.php': 1, '/wap/login.php': 1, '/wap/r.php': 1, '/zero/datapolicy': 1, '/a/timezone.php': 1, '/a/bz': 1, '/bz/reliability': 1, '/r.php': 1, '/mr/': 1, '/reg/': 1, '/registration/log/': 1, '/terms/': 1, '/f123/': 1, '/expert/': 1, '/experts/': 1, '/terms/index.php': 1, '/terms.php': 1, '/srr/': 1, '/msite/redirect/': 1, '/fbs/pixel/': 1, '/contactpoint/preconfirmation/': 1, '/contactpoint/cliff/': 1, '/contactpoint/confirm/submit/': 1, '/contactpoint/confirmed/': 1, '/contactpoint/login/': 1, '/preconfirmation/contactpoint_change/': 1, '/help/contact/': 1, '/survey/': 1, '/upsell/loyaltytopup/accept/': 1, '/settings/': 1, '/lite/': 1, '/zero_status_update/': 1, '/operator_store/': 1}}, 1478], ['CookieCoreLoggingConfig', [], {'maximumIgnorableStallMs': 16.67, 'sampleRate': 9.7e-05, 'sampleRateClassic': 1e-10, 'sampleRateFastStale': 1e-08}, 3401], ['AnalyticsCoreData', [], {'device_id': 'fd.AcYTWu1dCAJDt6U3sj_6pS6vOoa2eLwCG5I25FCYvqeWhsVGaImKIFBEVGaar1IxXivqBtWBOhKv_-Rbrrf2DzjG', 'app_id': '256281040558'}, 5237], ['WebConnectionClassServerGuess', [], {'connectionClass': 'EXCELLENT'}, 4705]], 'require': [['BDClientSignalCollectionTrigger', 'startSignalCollection', [], [{'sc': '{\"t\":1599258198,\"c\":[[30000,576657],[30001,576657],[30002,576657],[30003,576657],[30004,576657],[30005,576657],[30006,573585],[30007,576657],[30008,576657],[30009,573585],[30010,573585],[30012,573585],[30015,540817],[30093,540817],[30100,541591],[30101,541591],[30102,541591],[30103,541591],[30104,541591],[38000,806643],[38001,541427]]}', 'fds': 60, 'fda': 1440, 'i': 60, 'sbs': 1, 'dbs': 100, 'bbs': 100, 'hbi': 60, 'rt': 1024, 'hbcbc': 2, 'hbvbc': 0, 'hbbi': 30, 'sid': 42}]], ['BanzaiODS'], ['BanzaiScuba'], ['Bootloader', 'markComponentsAsImmediate', [], [['BanzaiODS', 'BanzaiScuba']]]]}, 'hsrp': {'hsdp': {'gkxData': {'708253': {'result': False, 'hash': 'AT7ExZXJ6h5eqmOl'}, '946894': {'result': False, 'hash': 'AT6ZQQZ20e0qzUKx'}, '996940': {'result': False, 'hash': 'AT6btIPc8F63p7Hy'}, '1263340': {'result': False, 'hash': 'AT7Nh_jOPR_N8p2h'}, '1458993': {'result': True, 'hash': 'AT7iwFGXFQi1N4iG'}, '1652843': {'result': False, 'hash': 'AT69-EQKKLQ2dVI8'}, '1656910': {'result': False, 'hash': 'AT7gGsWfdERJRZwS'}, '1167394': {'result': False, 'hash': 'AT4vfr_KiqYT7lJl'}, '676837': {'result': False, 'hash': 'AT5wjLgGC810uMTz'}}, 'qexData': {'1495392': {'r': 'br'}, '1505135': {'r': None}}}, 'hblp': {'sr_revision': 1002708539, 'rsrcMap': {'QcKtO': {'type': 'js', 'src': 'https://static.xx.fbcdn.net/rsrc.php/v3iAe54/yX/l/en_US/P2ZosbQseyh.js?_nc_x=WgII8y1WEB4', 'nc': 1}, '4/Kcm': {'type': 'js', 'src': 'https://static.xx.fbcdn.net/rsrc.php/v3idBq4/yU/l/en_US/jkzOzJqp3Z3.js?_nc_x=WgII8y1WEB4', 'nc': 1}, 'vRHby': {'type': 'js', 'src': 'https://static.xx.fbcdn.net/rsrc.php/v3id294/yu/l/en_US/7lH2r8oi_6I.js?_nc_x=WgII8y1WEB4', 'nc': 1}, 'mEiuV': {'type': 'js', 'src': 'https://static.xx.fbcdn.net/rsrc.php/v3/y0/r/_TDKt4gECpU.js?_nc_x=WgII8y1WEB4', 'nc': 1}, 'T0ebq': {'type': 'js', 'src': 'https://static.xx.fbcdn.net/rsrc.php/v3/yb/r/MEq27h9ZlCO.js?_nc_x=WgII8y1WEB4', 'nc': 1}, 'WxQ3g': {'type': 'js', 'src': 'https://static.xx.fbcdn.net/rsrc.php/v3/y6/r/JRxuZTugppW.js?_nc_x=WgII8y1WEB4', 'nc': 1}, 'AoyP3': {'type': 'js', 'src': 'https://static.xx.fbcdn.net/rsrc.php/v3/ya/r/ySDfr2FLWnT.js?_nc_x=WgII8y1WEB4', 'nc': 1}, 't38dO': {'type': 'js', 'src': 'https://static.xx.fbcdn.net/rsrc.php/v3/yM/r/wjkaDha4pZv.js?_nc_x=WgII8y1WEB4', 'nc': 1}, 'lcLqx': {'type': 'js', 'src': 'https://static.xx.fbcdn.net/rsrc.php/v3/yv/r/xTB5U_eLmEA.js?_nc_x=WgII8y1WEB4', 'nc': 1}, '6wqEE': {'type': 'js', 'src': 'https://static.xx.fbcdn.net/rsrc.php/v3/yT/r/kLEdyixJ_xl.js?_nc_x=WgII8y1WEB4', 'nc': 1}}, 'compMap': {'BanzaiODS': {'r': ['QcKtO'], 'rds': {'m': ['BanzaiODS', 'BanzaiScuba']}}, 'BanzaiScuba': {'r': ['QcKtO'], 'rds': {'m': ['BanzaiODS', 'BanzaiScuba']}}, 'BladeRunnerClient': {'r': ['4/Kcm', 'vRHby', 'mEiuV', 'QcKtO'], 'rds': {'m': ['BanzaiODS', 'BanzaiScuba', 'MqttLongPollingRunner'], 'r': ['T0ebq', 'WxQ3g']}, 'be': 1}, 'BladeRunnerStreamHandler': {'r': ['QcKtO'], 'be': 1}, 'WebSession': {'r': [], 'rds': {'m': ['BanzaiODS', 'BanzaiScuba'], 'r': ['QcKtO']}, 'be': 1}, 'FalcoBladeRunnerTransport': {'r': ['AoyP3'], 'be': 1}}}}, 'allResources': ['t38dO', 'lcLqx', 'QcKtO', '6wqEE'], 'lid': '6875554318115022358'}. Facebook might have changed protocol\n"
    }
   ],
   "source": [
    "troll = \"Before I put it in, I smack her ass Pull out my iFeezy, hit record, turn on the flash We gon make a movie like Ray J and Kim Kardash Put her on the block list that's if that pussy trash\"\n",
    "troll = troll.split(\" \")\n",
    "troll\n",
    "\n",
    "for word in troll:\n",
    "    client.send(Message(text=word), thread_id=\"3639818069384948\", thread_type=ThreadType.GROUP)"
   ]
  },
  {
   "cell_type": "code",
   "execution_count": null,
   "metadata": {},
   "outputs": [],
   "source": []
  }
 ]
}